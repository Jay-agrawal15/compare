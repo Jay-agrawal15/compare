{
 "cells": [
  {
   "cell_type": "code",
   "execution_count": 16,
   "metadata": {},
   "outputs": [],
   "source": [
    "import numpy as np\n",
    "import tensorflow as tf"
   ]
  },
  {
   "cell_type": "code",
   "execution_count": 17,
   "metadata": {},
   "outputs": [],
   "source": [
    "structures = np.loadtxt(\"structures_120k.txt\")"
   ]
  },
  {
   "cell_type": "code",
   "execution_count": 18,
   "metadata": {},
   "outputs": [
    {
     "data": {
      "text/plain": [
       "(120000, 8)"
      ]
     },
     "execution_count": 18,
     "metadata": {},
     "output_type": "execute_result"
    }
   ],
   "source": [
    "structures.shape"
   ]
  },
  {
   "cell_type": "code",
   "execution_count": 19,
   "metadata": {},
   "outputs": [],
   "source": [
    "spectra = np.loadtxt(\"spectra_120k.dat\")"
   ]
  },
  {
   "cell_type": "code",
   "execution_count": 20,
   "metadata": {},
   "outputs": [],
   "source": [
    "spectra = spectra.reshape(120000,61,4)"
   ]
  },
  {
   "cell_type": "code",
   "execution_count": 21,
   "metadata": {},
   "outputs": [
    {
     "data": {
      "text/plain": [
       "(120000, 61, 4)"
      ]
     },
     "execution_count": 21,
     "metadata": {},
     "output_type": "execute_result"
    }
   ],
   "source": [
    "spectra.shape"
   ]
  },
  {
   "cell_type": "code",
   "execution_count": 22,
   "metadata": {},
   "outputs": [],
   "source": [
    "sample_indices = np.random.choice(len(structures), size=10000, replace=False)\n",
    "sampled_structures = structures[sample_indices]\n",
    "sampled_spectra = spectra[sample_indices]\n"
   ]
  },
  {
   "cell_type": "code",
   "execution_count": 23,
   "metadata": {},
   "outputs": [
    {
     "data": {
      "text/plain": [
       "(10000, 8)"
      ]
     },
     "execution_count": 23,
     "metadata": {},
     "output_type": "execute_result"
    }
   ],
   "source": [
    "sampled_structures.shape"
   ]
  },
  {
   "cell_type": "code",
   "execution_count": 24,
   "metadata": {},
   "outputs": [
    {
     "name": "stdout",
     "output_type": "stream",
     "text": [
      "[[ 85. 146.  37. 102.  50. 108. 159. 174.]\n",
      " [ 41.  49. 162. 117.  52. 149. 150.  44.]\n",
      " [191. 139.  66.  90. 148. 109. 127. 136.]\n",
      " [132.  70.  99. 101. 155. 140.  36. 117.]\n",
      " [ 32.  99. 178.  56. 142.  62. 156. 195.]]\n"
     ]
    }
   ],
   "source": [
    "print(sampled_structures[:5])"
   ]
  },
  {
   "cell_type": "code",
   "execution_count": 25,
   "metadata": {},
   "outputs": [
    {
     "data": {
      "text/plain": [
       "(10000, 61, 4)"
      ]
     },
     "execution_count": 25,
     "metadata": {},
     "output_type": "execute_result"
    }
   ],
   "source": [
    "sampled_spectra.shape"
   ]
  },
  {
   "cell_type": "code",
   "execution_count": 26,
   "metadata": {},
   "outputs": [
    {
     "name": "stdout",
     "output_type": "stream",
     "text": [
      "[[[5.18006888e-10 1.89613455e-01 2.33080564e-18 2.96830470e-01]\n",
      "  [1.28816365e-09 1.80243797e-01 9.21149069e-18 2.84886247e-01]\n",
      "  [3.13809005e-09 1.71178323e-01 3.50787014e-17 2.73395792e-01]\n",
      "  ...\n",
      "  [8.72302976e-01 1.27402154e-01 2.68414212e-02 2.13477820e-01]\n",
      "  [7.17908601e-01 2.81796530e-01 3.10036534e-02 2.42398824e-01]\n",
      "  [5.71587078e-01 4.28118053e-01 3.55319849e-02 2.70356347e-01]]\n",
      "\n",
      " [[3.45380302e-07 1.40897792e-01 6.33429473e-13 2.28351878e-01]\n",
      "  [6.73840778e-07 1.49196985e-01 1.70954579e-12 2.30588028e-01]\n",
      "  [1.30037013e-06 1.57870942e-01 4.51626801e-12 2.33185567e-01]\n",
      "  ...\n",
      "  [2.85434118e-01 7.14271013e-01 3.68671038e-03 7.86842817e-01]\n",
      "  [2.07593040e-01 7.92112090e-01 3.52255089e-03 7.95140275e-01]\n",
      "  [1.59295918e-01 8.40409212e-01 3.43910776e-03 8.01783509e-01]]\n",
      "\n",
      " [[1.12106270e-08 8.74911048e-02 6.19409890e-16 1.63999739e-01]\n",
      "  [2.49853756e-08 9.18647985e-02 2.14455242e-15 1.64801058e-01]\n",
      "  [5.43084661e-08 9.88150356e-02 7.08926150e-15 1.68939822e-01]\n",
      "  ...\n",
      "  [9.88567234e-01 1.11378967e-02 8.20166886e-03 3.75688756e-01]\n",
      "  [9.83743083e-01 1.59620477e-02 8.81514299e-03 3.89578395e-01]\n",
      "  [9.14803368e-01 8.49017628e-02 9.14621874e-03 4.21240691e-01]]\n",
      "\n",
      " [[2.79819433e-08 3.91699842e-01 6.42331961e-15 4.65705588e-01]\n",
      "  [5.70113269e-08 3.89313307e-01 1.85440480e-14 4.65668720e-01]\n",
      "  [1.14703800e-07 3.85259333e-01 5.21424411e-14 4.65171671e-01]\n",
      "  ...\n",
      "  [7.01283975e-01 2.98421156e-01 9.96894720e-03 5.16773168e-01]\n",
      "  [5.91029896e-01 4.08675234e-01 1.22037950e-02 5.16054423e-01]\n",
      "  [4.95043831e-01 5.04661299e-01 1.52904616e-02 5.10687168e-01]]\n",
      "\n",
      " [[6.43821475e-08 2.18754604e-01 1.97869899e-14 3.01427516e-01]\n",
      "  [1.37088138e-07 2.23244560e-01 6.22525362e-14 3.03062947e-01]\n",
      "  [2.87512498e-07 2.28324307e-01 1.90882422e-13 3.04902658e-01]\n",
      "  ...\n",
      "  [3.90924711e-01 6.08780419e-01 1.25179794e-02 6.63879418e-01]\n",
      "  [3.51043745e-01 6.48661386e-01 1.13778837e-02 6.77583102e-01]\n",
      "  [3.15254111e-01 6.84451020e-01 1.06475361e-02 6.85919951e-01]]]\n"
     ]
    }
   ],
   "source": [
    "print(sampled_spectra[:5])"
   ]
  },
  {
   "cell_type": "code",
   "execution_count": 27,
   "metadata": {},
   "outputs": [],
   "source": [
    "model = tf.keras.models.load_model(\"finalmodel_15_10_2024.h5\")"
   ]
  },
  {
   "cell_type": "code",
   "execution_count": 28,
   "metadata": {},
   "outputs": [
    {
     "name": "stdout",
     "output_type": "stream",
     "text": [
      "313/313 [==============================] - 1s 3ms/step\n"
     ]
    }
   ],
   "source": [
    "predicted_spectra = model.predict(sampled_structures)"
   ]
  },
  {
   "cell_type": "code",
   "execution_count": 29,
   "metadata": {},
   "outputs": [],
   "source": [
    "mse = tf.keras.losses.MeanSquaredError()\n",
    "\n",
    "loss = mse(sampled_spectra,predicted_spectra).numpy()"
   ]
  },
  {
   "cell_type": "code",
   "execution_count": 30,
   "metadata": {},
   "outputs": [
    {
     "name": "stdout",
     "output_type": "stream",
     "text": [
      "The loss for 10000 random data from 120k data is 0.5075548887252808\n"
     ]
    }
   ],
   "source": [
    "print(f\"The loss for 10000 random data from 120k data is {loss}\")"
   ]
  },
  {
   "cell_type": "code",
   "execution_count": null,
   "metadata": {},
   "outputs": [],
   "source": []
  }
 ],
 "metadata": {
  "kernelspec": {
   "display_name": "py310",
   "language": "python",
   "name": "python3"
  },
  "language_info": {
   "codemirror_mode": {
    "name": "ipython",
    "version": 3
   },
   "file_extension": ".py",
   "mimetype": "text/x-python",
   "name": "python",
   "nbconvert_exporter": "python",
   "pygments_lexer": "ipython3",
   "version": "3.10.14"
  }
 },
 "nbformat": 4,
 "nbformat_minor": 2
}
