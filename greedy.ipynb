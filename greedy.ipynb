{
 "cells": [
  {
   "cell_type": "code",
   "execution_count": 1,
   "metadata": {},
   "outputs": [],
   "source": [
    "import numpy as np\n",
    "import tensorflow as tf\n",
    "import random"
   ]
  },
  {
   "cell_type": "code",
   "execution_count": 2,
   "metadata": {},
   "outputs": [],
   "source": [
    "structures = np.loadtxt(\"structures_120k.txt\")"
   ]
  },
  {
   "cell_type": "code",
   "execution_count": 3,
   "metadata": {},
   "outputs": [],
   "source": [
    "spectra = np.loadtxt(\"spectra_120k.dat\")\n",
    "spectra = spectra.reshape(120000,61,4)"
   ]
  },
  {
   "cell_type": "code",
   "execution_count": 4,
   "metadata": {},
   "outputs": [
    {
     "data": {
      "text/plain": [
       "(120000, 61, 4)"
      ]
     },
     "execution_count": 4,
     "metadata": {},
     "output_type": "execute_result"
    }
   ],
   "source": [
    "spectra.shape"
   ]
  },
  {
   "cell_type": "code",
   "execution_count": 5,
   "metadata": {},
   "outputs": [],
   "source": [
    "def euclidean_distance(a,b):\n",
    "    return np.linalg.norm(a-b)"
   ]
  },
  {
   "cell_type": "code",
   "execution_count": 6,
   "metadata": {},
   "outputs": [],
   "source": [
    "def greedy_selection(data, num_samples, start_index):\n",
    "    selected_indices = [start_index]\n",
    "    remaining_indices = list(range(len(data)))\n",
    "    remaining_indices.remove(start_index)\n",
    "\n",
    "    while len(selected_indices) < num_samples:\n",
    "        last_selected = data[selected_indices[-1]]\n",
    "        distances = np.array([euclidean_distance(last_selected, data[i]) for i in remaining_indices])\n",
    "        max_distance_index = np.argmax(distances)\n",
    "        selected_indices.append(remaining_indices[max_distance_index])\n",
    "        del remaining_indices[max_distance_index]\n",
    "\n",
    "    return np.array(selected_indices)\n"
   ]
  },
  {
   "cell_type": "code",
   "execution_count": 7,
   "metadata": {},
   "outputs": [],
   "source": [
    "random_start = True  # Set to True for a random starting index, False for deterministic\n",
    "if random_start:\n",
    "    starting_index = random.randint(0, len(structures) - 1)\n",
    "else:\n",
    "    starting_index = 0  # Fixed starting index for deterministic results\n"
   ]
  },
  {
   "cell_type": "code",
   "execution_count": 8,
   "metadata": {},
   "outputs": [
    {
     "name": "stdout",
     "output_type": "stream",
     "text": [
      "111177\n"
     ]
    }
   ],
   "source": [
    "print(starting_index)"
   ]
  },
  {
   "cell_type": "code",
   "execution_count": 9,
   "metadata": {},
   "outputs": [],
   "source": [
    "selected_indices = greedy_selection(structures, 100, starting_index)\n",
    "selected_structures = structures[selected_indices]\n",
    "selected_spectra = spectra[selected_indices]\n"
   ]
  },
  {
   "cell_type": "code",
   "execution_count": 10,
   "metadata": {},
   "outputs": [
    {
     "data": {
      "text/plain": [
       "array([111177,  99590, 108710,  43098,  48672,  66575,  60457,  12572,\n",
       "        59791, 107711,  64713, 100208,  15981,   3664,  19060,  47878,\n",
       "        96328, 102870,  44404,  42554,   5204,  58447,     81,  18983,\n",
       "        26704,  35494, 115378,  84950,  18303,  12939,  16346,    756,\n",
       "        51677,  23050,    309,  33419,  96497,  24848,   5074, 118123,\n",
       "        77125,  43911, 102095,  33423,   3177,  90700, 119076,  72688,\n",
       "        98256,  75945,    542,  46827,  99819,  80103,  92616,  93492,\n",
       "        65463,  12898, 102587,  16670,  60281,  69339,  88151,  98438,\n",
       "        22547,  41572,  82479,  75427,   2022,  35271,  11303,  77183,\n",
       "        57934, 100403,  23263,  48666,   6308,   1864,  14538,   9225,\n",
       "        51685,  27764,  94698,  81446,  47166,  32923,  91622,  50194,\n",
       "       117670,  23900,  27065, 116669,  50556,  69467,  77065,  16961,\n",
       "        78360,  60615,  53490,  20026])"
      ]
     },
     "execution_count": 10,
     "metadata": {},
     "output_type": "execute_result"
    }
   ],
   "source": [
    "selected_indices"
   ]
  },
  {
   "cell_type": "code",
   "execution_count": 11,
   "metadata": {},
   "outputs": [],
   "source": [
    "model = tf.keras.models.load_model(\"finalmodel_15_10_2024.h5\")"
   ]
  },
  {
   "cell_type": "code",
   "execution_count": 12,
   "metadata": {},
   "outputs": [
    {
     "name": "stdout",
     "output_type": "stream",
     "text": [
      "4/4 [==============================] - 3s 6ms/step\n"
     ]
    }
   ],
   "source": [
    "predicted_spectra = model.predict(selected_structures)"
   ]
  },
  {
   "cell_type": "code",
   "execution_count": 13,
   "metadata": {},
   "outputs": [],
   "source": [
    "mse = tf.keras.losses.MeanSquaredError()\n",
    "loss = mse(selected_spectra,predicted_spectra).numpy()"
   ]
  },
  {
   "cell_type": "code",
   "execution_count": 14,
   "metadata": {},
   "outputs": [
    {
     "name": "stdout",
     "output_type": "stream",
     "text": [
      "The loss for 10000 greedy sampling data from 120k data is 0.5109357833862305\n"
     ]
    }
   ],
   "source": [
    "print(f\"The loss for 10000 greedy sampling data from 120k data is {loss}\")"
   ]
  },
  {
   "cell_type": "code",
   "execution_count": null,
   "metadata": {},
   "outputs": [],
   "source": []
  }
 ],
 "metadata": {
  "kernelspec": {
   "display_name": "py310",
   "language": "python",
   "name": "python3"
  },
  "language_info": {
   "codemirror_mode": {
    "name": "ipython",
    "version": 3
   },
   "file_extension": ".py",
   "mimetype": "text/x-python",
   "name": "python",
   "nbconvert_exporter": "python",
   "pygments_lexer": "ipython3",
   "version": "3.10.14"
  }
 },
 "nbformat": 4,
 "nbformat_minor": 2
}
